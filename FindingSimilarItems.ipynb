{
 "cells": [
  {
   "cell_type": "code",
   "id": "initial_id",
   "metadata": {
    "collapsed": true,
    "ExecuteTime": {
     "end_time": "2025-03-31T21:44:08.337040Z",
     "start_time": "2025-03-31T21:44:08.330465Z"
    }
   },
   "source": [
    "import os\n",
    "from dotenv import load_dotenv\n",
    "\n",
    "# .env dosyasından KAGGLE bilgilerini yükle\n",
    "load_dotenv()\n",
    "\n",
    "# Ortam değişkenlerini ayarla (Kaggle CLI için gerekli)\n",
    "os.environ['KAGGLE_USERNAME'] = os.getenv(\"KAGGLE_USERNAME\")\n",
    "os.environ['KAGGLE_KEY'] = os.getenv(\"KAGGLE_KEY\")"
   ],
   "outputs": [],
   "execution_count": 6
  },
  {
   "metadata": {
    "ExecuteTime": {
     "end_time": "2025-03-31T21:44:42.564477Z",
     "start_time": "2025-03-31T21:44:19.249794Z"
    }
   },
   "cell_type": "code",
   "source": [
    "import pandas as pd\n",
    "\n",
    "# Dosya yolu\n",
    "DATA_PATH = \"./data/Books_rating.csv\"  # Kendi yoluna göre ayarlayabilirsin\n",
    "\n",
    "# Veriyi oku\n",
    "df = pd.read_csv(DATA_PATH)\n",
    "\n",
    "# İlk birkaç satırı göster\n",
    "df.head()"
   ],
   "id": "36a09666fa0dd423",
   "outputs": [
    {
     "data": {
      "text/plain": [
       "           Id                           Title  Price         User_id  \\\n",
       "0  1882931173  Its Only Art If Its Well Hung!    NaN   AVCGYZL8FQQTD   \n",
       "1  0826414346        Dr. Seuss: American Icon    NaN  A30TK6U7DNS82R   \n",
       "2  0826414346        Dr. Seuss: American Icon    NaN  A3UH4UZ4RSVO82   \n",
       "3  0826414346        Dr. Seuss: American Icon    NaN  A2MVUWT453QH61   \n",
       "4  0826414346        Dr. Seuss: American Icon    NaN  A22X4XUPKF66MR   \n",
       "\n",
       "                          profileName review/helpfulness  review/score  \\\n",
       "0               Jim of Oz \"jim-of-oz\"                7/7           4.0   \n",
       "1                       Kevin Killian              10/10           5.0   \n",
       "2                        John Granger              10/11           5.0   \n",
       "3  Roy E. Perry \"amateur philosopher\"                7/7           4.0   \n",
       "4     D. H. Richards \"ninthwavestore\"                3/3           4.0   \n",
       "\n",
       "   review/time                                   review/summary  \\\n",
       "0    940636800           Nice collection of Julie Strain images   \n",
       "1   1095724800                                Really Enjoyed It   \n",
       "2   1078790400  Essential for every personal and Public Library   \n",
       "3   1090713600  Phlip Nel gives silly Seuss a serious treatment   \n",
       "4   1107993600                           Good academic overview   \n",
       "\n",
       "                                         review/text  \n",
       "0  This is only for Julie Strain fans. It's a col...  \n",
       "1  I don't care much for Dr. Seuss but after read...  \n",
       "2  If people become the books they read and if \"t...  \n",
       "3  Theodore Seuss Geisel (1904-1991), aka &quot;D...  \n",
       "4  Philip Nel - Dr. Seuss: American IconThis is b...  "
      ],
      "text/html": [
       "<div>\n",
       "<style scoped>\n",
       "    .dataframe tbody tr th:only-of-type {\n",
       "        vertical-align: middle;\n",
       "    }\n",
       "\n",
       "    .dataframe tbody tr th {\n",
       "        vertical-align: top;\n",
       "    }\n",
       "\n",
       "    .dataframe thead th {\n",
       "        text-align: right;\n",
       "    }\n",
       "</style>\n",
       "<table border=\"1\" class=\"dataframe\">\n",
       "  <thead>\n",
       "    <tr style=\"text-align: right;\">\n",
       "      <th></th>\n",
       "      <th>Id</th>\n",
       "      <th>Title</th>\n",
       "      <th>Price</th>\n",
       "      <th>User_id</th>\n",
       "      <th>profileName</th>\n",
       "      <th>review/helpfulness</th>\n",
       "      <th>review/score</th>\n",
       "      <th>review/time</th>\n",
       "      <th>review/summary</th>\n",
       "      <th>review/text</th>\n",
       "    </tr>\n",
       "  </thead>\n",
       "  <tbody>\n",
       "    <tr>\n",
       "      <th>0</th>\n",
       "      <td>1882931173</td>\n",
       "      <td>Its Only Art If Its Well Hung!</td>\n",
       "      <td>NaN</td>\n",
       "      <td>AVCGYZL8FQQTD</td>\n",
       "      <td>Jim of Oz \"jim-of-oz\"</td>\n",
       "      <td>7/7</td>\n",
       "      <td>4.0</td>\n",
       "      <td>940636800</td>\n",
       "      <td>Nice collection of Julie Strain images</td>\n",
       "      <td>This is only for Julie Strain fans. It's a col...</td>\n",
       "    </tr>\n",
       "    <tr>\n",
       "      <th>1</th>\n",
       "      <td>0826414346</td>\n",
       "      <td>Dr. Seuss: American Icon</td>\n",
       "      <td>NaN</td>\n",
       "      <td>A30TK6U7DNS82R</td>\n",
       "      <td>Kevin Killian</td>\n",
       "      <td>10/10</td>\n",
       "      <td>5.0</td>\n",
       "      <td>1095724800</td>\n",
       "      <td>Really Enjoyed It</td>\n",
       "      <td>I don't care much for Dr. Seuss but after read...</td>\n",
       "    </tr>\n",
       "    <tr>\n",
       "      <th>2</th>\n",
       "      <td>0826414346</td>\n",
       "      <td>Dr. Seuss: American Icon</td>\n",
       "      <td>NaN</td>\n",
       "      <td>A3UH4UZ4RSVO82</td>\n",
       "      <td>John Granger</td>\n",
       "      <td>10/11</td>\n",
       "      <td>5.0</td>\n",
       "      <td>1078790400</td>\n",
       "      <td>Essential for every personal and Public Library</td>\n",
       "      <td>If people become the books they read and if \"t...</td>\n",
       "    </tr>\n",
       "    <tr>\n",
       "      <th>3</th>\n",
       "      <td>0826414346</td>\n",
       "      <td>Dr. Seuss: American Icon</td>\n",
       "      <td>NaN</td>\n",
       "      <td>A2MVUWT453QH61</td>\n",
       "      <td>Roy E. Perry \"amateur philosopher\"</td>\n",
       "      <td>7/7</td>\n",
       "      <td>4.0</td>\n",
       "      <td>1090713600</td>\n",
       "      <td>Phlip Nel gives silly Seuss a serious treatment</td>\n",
       "      <td>Theodore Seuss Geisel (1904-1991), aka &amp;quot;D...</td>\n",
       "    </tr>\n",
       "    <tr>\n",
       "      <th>4</th>\n",
       "      <td>0826414346</td>\n",
       "      <td>Dr. Seuss: American Icon</td>\n",
       "      <td>NaN</td>\n",
       "      <td>A22X4XUPKF66MR</td>\n",
       "      <td>D. H. Richards \"ninthwavestore\"</td>\n",
       "      <td>3/3</td>\n",
       "      <td>4.0</td>\n",
       "      <td>1107993600</td>\n",
       "      <td>Good academic overview</td>\n",
       "      <td>Philip Nel - Dr. Seuss: American IconThis is b...</td>\n",
       "    </tr>\n",
       "  </tbody>\n",
       "</table>\n",
       "</div>"
      ]
     },
     "execution_count": 8,
     "metadata": {},
     "output_type": "execute_result"
    }
   ],
   "execution_count": 8
  },
  {
   "metadata": {
    "ExecuteTime": {
     "end_time": "2025-03-31T21:47:55.525318Z",
     "start_time": "2025-03-31T21:47:54.654083Z"
    }
   },
   "cell_type": "code",
   "source": [
    "# Dosyayı yükle (şu anlık tüm veriyi değil, hızlı inceleme için ilk 100.000 satır)\n",
    "df_analysis = pd.read_csv(\"./data/Books_rating.csv\", nrows=100000)\n",
    "\n",
    "\n",
    "# Genel bilgi\n",
    "df_analysis.info()"
   ],
   "id": "1683f666b3ccae47",
   "outputs": [
    {
     "name": "stdout",
     "output_type": "stream",
     "text": [
      "<class 'pandas.core.frame.DataFrame'>\n",
      "RangeIndex: 100000 entries, 0 to 99999\n",
      "Data columns (total 10 columns):\n",
      " #   Column              Non-Null Count   Dtype  \n",
      "---  ------              --------------   -----  \n",
      " 0   Id                  100000 non-null  object \n",
      " 1   Title               99999 non-null   object \n",
      " 2   Price               12982 non-null   float64\n",
      " 3   User_id             80784 non-null   object \n",
      " 4   profileName         80780 non-null   object \n",
      " 5   review/helpfulness  100000 non-null  object \n",
      " 6   review/score        100000 non-null  float64\n",
      " 7   review/time         100000 non-null  int64  \n",
      " 8   review/summary      99982 non-null   object \n",
      " 9   review/text         100000 non-null  object \n",
      "dtypes: float64(2), int64(1), object(7)\n",
      "memory usage: 7.6+ MB\n"
     ]
    }
   ],
   "execution_count": 15
  },
  {
   "metadata": {
    "ExecuteTime": {
     "end_time": "2025-03-31T21:46:59.225502Z",
     "start_time": "2025-03-31T21:46:59.101597Z"
    }
   },
   "cell_type": "code",
   "source": [
    "# Yorumların istatistiklerine bakalım\n",
    "df_analysis[\"review/text\"].describe()"
   ],
   "id": "bdd88945b1636ff",
   "outputs": [
    {
     "data": {
      "text/plain": [
       "count                                                100000\n",
       "unique                                                93565\n",
       "top       This book is a great example of rational think...\n",
       "freq                                                     14\n",
       "Name: review/text, dtype: object"
      ]
     },
     "execution_count": 11,
     "metadata": {},
     "output_type": "execute_result"
    }
   ],
   "execution_count": 11
  },
  {
   "metadata": {
    "ExecuteTime": {
     "end_time": "2025-03-31T21:48:35.729159Z",
     "start_time": "2025-03-31T21:48:19.670865Z"
    }
   },
   "cell_type": "code",
   "source": [
    "# Eksik (NaN) değer sayısı\n",
    "missing_count = df[\"review/text\"].isna().sum()\n",
    "\n",
    "# Boş string veya sadece boşluk olanları bul\n",
    "empty_strings = (df[\"review/text\"].fillna(\"\").str.strip() == \"\").sum()\n",
    "\n",
    "# Çok kısa yorumlar (örneğin 3 kelime ve altı)\n",
    "short_reviews = df[\"review/text\"].fillna(\"\").apply(lambda x: len(str(x).split()) <= 3).sum()\n",
    "\n",
    "print(f\"NaN sayısı: {missing_count}\")\n",
    "print(f\"Boş string sayısı: {empty_strings}\")\n",
    "print(f\"Çok kısa yorum sayısı (≤ 3 kelime): {short_reviews}\")"
   ],
   "id": "8081ed25deb9033d",
   "outputs": [
    {
     "name": "stdout",
     "output_type": "stream",
     "text": [
      "NaN sayısı: 8\n",
      "Boş string sayısı: 8\n",
      "Çok kısa yorum sayısı (≤ 3 kelime): 864\n"
     ]
    }
   ],
   "execution_count": 16
  },
  {
   "metadata": {
    "ExecuteTime": {
     "end_time": "2025-03-31T21:49:04.221527Z",
     "start_time": "2025-03-31T21:48:48.363562Z"
    }
   },
   "cell_type": "code",
   "source": [
    "import matplotlib.pyplot as plt\n",
    "\n",
    "review_lengths = df[\"review/text\"].dropna().apply(lambda x: len(str(x).split()))\n",
    "\n",
    "plt.hist(review_lengths, bins=50)\n",
    "plt.xlabel(\"Kelime sayısı\")\n",
    "plt.ylabel(\"Yorum sayısı\")\n",
    "plt.title(\"Yorum Uzunluğu Dağılımı\")\n",
    "plt.show()"
   ],
   "id": "73815faea7a32541",
   "outputs": [
    {
     "data": {
      "text/plain": [
       "<Figure size 640x480 with 1 Axes>"
      ],
      "image/png": "[encoded data removed]"
     },
     "metadata": {},
     "output_type": "display_data"
    }
   ],
   "execution_count": 17
  },
  {
   "metadata": {
    "ExecuteTime": {
     "end_time": "2025-03-31T21:57:06.706213Z",
     "start_time": "2025-03-31T21:55:30.970473Z"
    }
   },
   "cell_type": "code",
   "source": "",
   "id": "6aecc9cfc5882f0c",
   "outputs": [
    {
     "name": "stdout",
     "output_type": "stream",
     "text": [
      "                                         review/text  word_count  is_short\n",
      "0  This is only for Julie Strain fans. It's a col...          86     False\n",
      "1  I don't care much for Dr. Seuss but after read...         252     False\n",
      "2  If people become the books they read and if \"t...         310     False\n",
      "3  Philip Nel - Dr. Seuss: American IconThis is b...         273     False\n",
      "4  \"Dr. Seuss: American Icon\" by Philip Nel is a ...         298     False\n",
      "5  Theodor Seuss Giesel was best known as 'Dr. Se...          87     False\n",
      "6  When I recieved this book as a gift for Christ...         210     False\n",
      "7  Trams (or any public transport) are not usuall...          63     False\n",
      "8  As far as I am aware, this is the first book-l...         243     False\n",
      "9  I just finished the book, &quot;Wonderful Wors...         137     False\n"
     ]
    }
   ],
   "execution_count": 19
  },
  {
   "metadata": {},
   "cell_type": "code",
   "outputs": [],
   "execution_count": null,
   "source": "",
   "id": "1fee2c3b30340fcd"
  }
 ],
 "metadata": {
  "kernelspec": {
   "display_name": "Python 3",
   "language": "python",
   "name": "python3"
  },
  "language_info": {
   "codemirror_mode": {
    "name": "ipython",
    "version": 2
   },
   "file_extension": ".py",
   "mimetype": "text/x-python",
   "name": "python",
   "nbconvert_exporter": "python",
   "pygments_lexer": "ipython2",
   "version": "2.7.6"
  }
 },
 "nbformat": 4,
 "nbformat_minor": 5
}
