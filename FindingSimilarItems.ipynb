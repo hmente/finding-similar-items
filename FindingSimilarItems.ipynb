{
 "cells": [
  {
   "metadata": {},
   "cell_type": "markdown",
   "source": "# Finding Similar Items",
   "id": "d1fac9fe425d5dcd"
  },
  {
   "cell_type": "code",
   "id": "initial_id",
   "metadata": {
    "collapsed": true,
    "ExecuteTime": {
     "end_time": "2025-04-02T00:40:05.413867Z",
     "start_time": "2025-04-02T00:40:05.400463Z"
    }
   },
   "source": [
    "import html\n",
    "import matplotlib.pyplot as plt\n",
    "import numpy as np\n",
    "import os\n",
    "import pandas as pd\n",
    "import re\n",
    "import unicodedata\n",
    "import zipfile"
   ],
   "outputs": [],
   "execution_count": 14
  },
  {
   "metadata": {},
   "cell_type": "markdown",
   "source": "## Loading the Data",
   "id": "c23cf5efe46ab2cb"
  },
  {
   "metadata": {
    "ExecuteTime": {
     "end_time": "2025-04-02T00:41:39.121127Z",
     "start_time": "2025-04-02T00:40:07.943652Z"
    }
   },
   "cell_type": "code",
   "source": [
    "kaggle_dir = os.path.expanduser(\"~/.kaggle\")\n",
    "os.makedirs(kaggle_dir, exist_ok=True)\n",
    "\n",
    "if not os.path.exists(os.path.join(kaggle_dir, \"kaggle.json\")):\n",
    "    print(\"Please upload your kaggle.json manually or place it in ~/.kaggle\")\n",
    "\n",
    "os.chmod(os.path.join(kaggle_dir, \"kaggle.json\"), 0o600)\n",
    "\n",
    "!kaggle datasets download -d mohamedbakhet/amazon-books-reviews\n",
    "\n",
    "with zipfile.ZipFile(\"amazon-books-reviews.zip\", \"r\") as zip_ref:\n",
    "    zip_ref.extractall(\"data\")  # output folder = ./data\n",
    "\n",
    "csv_path = os.path.join(\"data\", \"Books_rating.csv\") \n",
    "df = pd.read_csv(csv_path)\n",
    "\n",
    "df.head()"
   ],
   "id": "36a09666fa0dd423",
   "outputs": [
    {
     "name": "stdout",
     "output_type": "stream",
     "text": [
      "/Users/hilalmente/Library/Python/3.9/lib/python/site-packages/urllib3/__init__.py:35: NotOpenSSLWarning: urllib3 v2 only supports OpenSSL 1.1.1+, currently the 'ssl' module is compiled with 'LibreSSL 2.8.3'. See: https://github.com/urllib3/urllib3/issues/3020\r\n",
      "  warnings.warn(\r\n",
      "Dataset URL: https://www.kaggle.com/datasets/mohamedbakhet/amazon-books-reviews\r\n",
      "License(s): CC0-1.0\r\n",
      "amazon-books-reviews.zip: Skipping, found more recently modified local copy (use --force to force download)\r\n"
     ]
    },
    {
     "data": {
      "text/plain": [
       "           Id                           Title  Price         User_id  \\\n",
       "0  1882931173  Its Only Art If Its Well Hung!    NaN   AVCGYZL8FQQTD   \n",
       "1  0826414346        Dr. Seuss: American Icon    NaN  A30TK6U7DNS82R   \n",
       "2  0826414346        Dr. Seuss: American Icon    NaN  A3UH4UZ4RSVO82   \n",
       "3  0826414346        Dr. Seuss: American Icon    NaN  A2MVUWT453QH61   \n",
       "4  0826414346        Dr. Seuss: American Icon    NaN  A22X4XUPKF66MR   \n",
       "\n",
       "                          profileName review/helpfulness  review/score  \\\n",
       "0               Jim of Oz \"jim-of-oz\"                7/7           4.0   \n",
       "1                       Kevin Killian              10/10           5.0   \n",
       "2                        John Granger              10/11           5.0   \n",
       "3  Roy E. Perry \"amateur philosopher\"                7/7           4.0   \n",
       "4     D. H. Richards \"ninthwavestore\"                3/3           4.0   \n",
       "\n",
       "   review/time                                   review/summary  \\\n",
       "0    940636800           Nice collection of Julie Strain images   \n",
       "1   1095724800                                Really Enjoyed It   \n",
       "2   1078790400  Essential for every personal and Public Library   \n",
       "3   1090713600  Phlip Nel gives silly Seuss a serious treatment   \n",
       "4   1107993600                           Good academic overview   \n",
       "\n",
       "                                         review/text  \n",
       "0  This is only for Julie Strain fans. It's a col...  \n",
       "1  I don't care much for Dr. Seuss but after read...  \n",
       "2  If people become the books they read and if \"t...  \n",
       "3  Theodore Seuss Geisel (1904-1991), aka &quot;D...  \n",
       "4  Philip Nel - Dr. Seuss: American IconThis is b...  "
      ],
      "text/html": [
       "<div>\n",
       "<style scoped>\n",
       "    .dataframe tbody tr th:only-of-type {\n",
       "        vertical-align: middle;\n",
       "    }\n",
       "\n",
       "    .dataframe tbody tr th {\n",
       "        vertical-align: top;\n",
       "    }\n",
       "\n",
       "    .dataframe thead th {\n",
       "        text-align: right;\n",
       "    }\n",
       "</style>\n",
       "<table border=\"1\" class=\"dataframe\">\n",
       "  <thead>\n",
       "    <tr style=\"text-align: right;\">\n",
       "      <th></th>\n",
       "      <th>Id</th>\n",
       "      <th>Title</th>\n",
       "      <th>Price</th>\n",
       "      <th>User_id</th>\n",
       "      <th>profileName</th>\n",
       "      <th>review/helpfulness</th>\n",
       "      <th>review/score</th>\n",
       "      <th>review/time</th>\n",
       "      <th>review/summary</th>\n",
       "      <th>review/text</th>\n",
       "    </tr>\n",
       "  </thead>\n",
       "  <tbody>\n",
       "    <tr>\n",
       "      <th>0</th>\n",
       "      <td>1882931173</td>\n",
       "      <td>Its Only Art If Its Well Hung!</td>\n",
       "      <td>NaN</td>\n",
       "      <td>AVCGYZL8FQQTD</td>\n",
       "      <td>Jim of Oz \"jim-of-oz\"</td>\n",
       "      <td>7/7</td>\n",
       "      <td>4.0</td>\n",
       "      <td>940636800</td>\n",
       "      <td>Nice collection of Julie Strain images</td>\n",
       "      <td>This is only for Julie Strain fans. It's a col...</td>\n",
       "    </tr>\n",
       "    <tr>\n",
       "      <th>1</th>\n",
       "      <td>0826414346</td>\n",
       "      <td>Dr. Seuss: American Icon</td>\n",
       "      <td>NaN</td>\n",
       "      <td>A30TK6U7DNS82R</td>\n",
       "      <td>Kevin Killian</td>\n",
       "      <td>10/10</td>\n",
       "      <td>5.0</td>\n",
       "      <td>1095724800</td>\n",
       "      <td>Really Enjoyed It</td>\n",
       "      <td>I don't care much for Dr. Seuss but after read...</td>\n",
       "    </tr>\n",
       "    <tr>\n",
       "      <th>2</th>\n",
       "      <td>0826414346</td>\n",
       "      <td>Dr. Seuss: American Icon</td>\n",
       "      <td>NaN</td>\n",
       "      <td>A3UH4UZ4RSVO82</td>\n",
       "      <td>John Granger</td>\n",
       "      <td>10/11</td>\n",
       "      <td>5.0</td>\n",
       "      <td>1078790400</td>\n",
       "      <td>Essential for every personal and Public Library</td>\n",
       "      <td>If people become the books they read and if \"t...</td>\n",
       "    </tr>\n",
       "    <tr>\n",
       "      <th>3</th>\n",
       "      <td>0826414346</td>\n",
       "      <td>Dr. Seuss: American Icon</td>\n",
       "      <td>NaN</td>\n",
       "      <td>A2MVUWT453QH61</td>\n",
       "      <td>Roy E. Perry \"amateur philosopher\"</td>\n",
       "      <td>7/7</td>\n",
       "      <td>4.0</td>\n",
       "      <td>1090713600</td>\n",
       "      <td>Phlip Nel gives silly Seuss a serious treatment</td>\n",
       "      <td>Theodore Seuss Geisel (1904-1991), aka &amp;quot;D...</td>\n",
       "    </tr>\n",
       "    <tr>\n",
       "      <th>4</th>\n",
       "      <td>0826414346</td>\n",
       "      <td>Dr. Seuss: American Icon</td>\n",
       "      <td>NaN</td>\n",
       "      <td>A22X4XUPKF66MR</td>\n",
       "      <td>D. H. Richards \"ninthwavestore\"</td>\n",
       "      <td>3/3</td>\n",
       "      <td>4.0</td>\n",
       "      <td>1107993600</td>\n",
       "      <td>Good academic overview</td>\n",
       "      <td>Philip Nel - Dr. Seuss: American IconThis is b...</td>\n",
       "    </tr>\n",
       "  </tbody>\n",
       "</table>\n",
       "</div>"
      ]
     },
     "execution_count": 15,
     "metadata": {},
     "output_type": "execute_result"
    }
   ],
   "execution_count": 15
  },
  {
   "metadata": {},
   "cell_type": "markdown",
   "source": "## Missing Values, Empty Strings, and Short Reviews",
   "id": "bd954e359536ebde"
  },
  {
   "metadata": {
    "ExecuteTime": {
     "end_time": "2025-04-02T00:42:49.248551Z",
     "start_time": "2025-04-02T00:42:28.430619Z"
    }
   },
   "cell_type": "code",
   "source": [
    "missing_count = df[\"review/text\"].isna().sum()\n",
    "empty_strings = (df[\"review/text\"].fillna(\"\").str.strip() == \"\").sum()\n",
    "short_reviews = df[\"review/text\"].fillna(\"\").apply(lambda x: len(str(x).split()) <= 3).sum()\n",
    "\n",
    "print(f\"Number of NaN: {missing_count}\")\n",
    "print(f\"Number of Empty string: {empty_strings}\")\n",
    "print(f\"Number of very short strings (≤ 3 words): {short_reviews}\")"
   ],
   "id": "8081ed25deb9033d",
   "outputs": [
    {
     "name": "stdout",
     "output_type": "stream",
     "text": [
      "Number of NaN: 8\n",
      "Number of Empty string: 8\n",
      "Number of very short strings (≤ 3 words): 864\n"
     ]
    }
   ],
   "execution_count": 16
  },
  {
   "metadata": {},
   "cell_type": "markdown",
   "source": "## Exploratory Data Analysis on Review Lengths",
   "id": "d064adff82f0fd0"
  },
  {
   "metadata": {
    "ExecuteTime": {
     "end_time": "2025-04-02T00:43:22.568257Z",
     "start_time": "2025-04-02T00:43:00.891183Z"
    }
   },
   "cell_type": "code",
   "source": [
    "def word_count(text):\n",
    "    return len(str(text).split())\n",
    "\n",
    "review_lengths = df[\"review/text\"].dropna().apply(word_count)\n",
    "\n",
    "plt.hist(review_lengths, bins=50)\n",
    "plt.xlabel(\"Number of words\")\n",
    "plt.ylabel(\"Number of reviews\")\n",
    "plt.title(\"Distribution of review lengths\")\n",
    "\n",
    "plt.savefig(\"distribution_of_review_lengths.png\", dpi=300, bbox_inches='tight')  # PNG\n",
    "\n",
    "plt.show()\n",
    "\n",
    "plt.boxplot(review_lengths, vert=False)\n",
    "plt.xlabel(\"Number of words\")\n",
    "plt.title(\"Boxplot of review lengths\")\n",
    "plt.savefig(\"box_plot_of_review_lengths.png\", dpi=300, bbox_inches='tight')  # PNG\n",
    "plt.show()\n",
    "\n",
    "sorted_lengths = np.sort(review_lengths)\n",
    "cumulative = np.arange(1, len(sorted_lengths) + 1) / len(sorted_lengths)\n",
    "plt.plot(sorted_lengths, cumulative)\n",
    "plt.axhline(0.8, color='r', linestyle='--', label='80% threshold')\n",
    "plt.xlim(0, 500)  # sadece ilk 500 kelimeye kadar göster\n",
    "plt.xlabel(\"Number of words\")\n",
    "plt.ylabel(\"Cumulative proportion\")\n",
    "plt.title(\"Cumulative Distribution of Review Lengths (truncated at 500 words)\")\n",
    "plt.legend()\n",
    "\n",
    "plt.grid(True)\n",
    "plt.tight_layout()\n",
    "plt.savefig(\"cumulative_review_length_500.png\", dpi=300)\n",
    "plt.show()"
   ],
   "id": "73815faea7a32541",
   "outputs": [
    {
     "data": {
      "text/plain": [
       "<Figure size 640x480 with 1 Axes>"
      ],
      "image/png": "[encoded data removed]"
     },
     "metadata": {},
     "output_type": "display_data"
    },
    {
     "data": {
      "text/plain": [
       "<Figure size 640x480 with 1 Axes>"
      ],
      "image/png": "[encoded data removed]"
     },
     "metadata": {},
     "output_type": "display_data"
    },
    {
     "data": {
      "text/plain": [
       "<Figure size 640x480 with 1 Axes>"
      ],
      "image/png": "[encoded data removed]"
     },
     "metadata": {},
     "output_type": "display_data"
    }
   ],
   "execution_count": 17
  },
  {
   "metadata": {},
   "cell_type": "markdown",
   "source": "## Preprocessing the Text",
   "id": "63d66dd2f3d0bc5a"
  },
  {
   "metadata": {
    "ExecuteTime": {
     "end_time": "2025-04-02T00:45:32.579581Z",
     "start_time": "2025-04-02T00:44:05.936438Z"
    }
   },
   "cell_type": "code",
   "source": [
    "def clean_text(text):\n",
    "    text = text.lower()\n",
    "    text = re.sub(r\"[^a-z\\s]\", \"\", text)\n",
    "    text = re.sub(r\"\\s+\", \" \", text)\n",
    "    return text.strip()\n",
    "\n",
    "def decode_artifacts(text):\n",
    "    if pd.isna(text): return \"\"\n",
    "    text = html.unescape(text)\n",
    "    text = unicodedata.normalize(\"NFKD\", text)\n",
    "    return text\n",
    "\n",
    "df_cleaned = df[~df[\"review/text\"].isna()]\n",
    "df_cleaned.loc[:, \"review/text\"] = df_cleaned[\"review/text\"].apply(decode_artifacts)\n",
    "df_cleaned = df_cleaned[df_cleaned[\"review/text\"].str.strip() != \"\"]\n",
    "\n",
    "df_cleaned[\"word_count\"] = df_cleaned[\"review/text\"].apply(lambda x: len(x.split()))\n",
    "df_cleaned = df_cleaned[df_cleaned[\"word_count\"] >= 3]\n",
    "df_cleaned = df_cleaned[df_cleaned[\"word_count\"] <= 200]\n",
    "\n",
    "df_cleaned[\"clean_text\"] = df_cleaned[\"review/text\"].apply(clean_text)\n",
    "df_cleaned = df_cleaned.drop_duplicates(subset=[\"clean_text\"])\n",
    "\n",
    "df_cleaned = df_cleaned.reset_index(drop=True)\n",
    "\n",
    "print(df_cleaned[[\"review/text\", \"word_count\"]].head(10))"
   ],
   "id": "6aecc9cfc5882f0c",
   "outputs": [
    {
     "name": "stdout",
     "output_type": "stream",
     "text": [
      "                                         review/text  word_count\n",
      "0  This is only for Julie Strain fans. It's a col...          86\n",
      "1  Theodor Seuss Giesel was best known as 'Dr. Se...          87\n",
      "2  Trams (or any public transport) are not usuall...          63\n",
      "3  I just finished the book, \"Wonderful Worship i...         137\n",
      "4  Many small churches feel like they can not hav...          55\n",
      "5  I hadn't been a small church pastor very long ...         187\n",
      "6  I bought this book because I read some glowing...         176\n",
      "7  This is a self-published book, and if you want...         137\n",
      "8  When I first read this the I was mezmerized at...          66\n",
      "9  I read the review directly under mine and I ha...         143\n"
     ]
    }
   ],
   "execution_count": 18
  },
  {
   "metadata": {},
   "cell_type": "markdown",
   "source": "## Sampling",
   "id": "bde33866057ff56"
  },
  {
   "metadata": {
    "ExecuteTime": {
     "end_time": "2025-04-02T00:45:38.941604Z",
     "start_time": "2025-04-02T00:45:38.812113Z"
    }
   },
   "cell_type": "code",
   "source": "df_sample = df_cleaned.sample(n=1000, random_state=42).reset_index(drop=True)",
   "id": "1fee2c3b30340fcd",
   "outputs": [],
   "execution_count": 19
  },
  {
   "metadata": {},
   "cell_type": "markdown",
   "source": "## Jaccard Similarity",
   "id": "db693e34c392f8eb"
  },
  {
   "metadata": {
    "ExecuteTime": {
     "end_time": "2025-04-02T00:47:42.718192Z",
     "start_time": "2025-04-02T00:47:30.342395Z"
    }
   },
   "cell_type": "code",
   "source": [
    "def jaccard_similarity(str1, str2):\n",
    "    set1 = set(str1.split())\n",
    "    set2 = set(str2.split())\n",
    "    intersection = set1.intersection(set2)\n",
    "    union = set1.union(set2)\n",
    "    if not union:\n",
    "        return 0.0\n",
    "    return len(intersection) / len(union)\n",
    "\n",
    "from tqdm import tqdm\n",
    "\n",
    "similarities = []\n",
    "n = len(df_sample)\n",
    "\n",
    "for i in tqdm(range(n)):\n",
    "    for j in range(i + 1, n):\n",
    "        sim = jaccard_similarity(df_sample.loc[i, \"clean_text\"], df_sample.loc[j, \"clean_text\"])\n",
    "        similarities.append((i, j, sim))"
   ],
   "id": "bc39d3700c46c810",
   "outputs": [
    {
     "name": "stderr",
     "output_type": "stream",
     "text": [
      "100%|██████████| 1000/1000 [00:12<00:00, 81.27it/s]\n"
     ]
    }
   ],
   "execution_count": 24
  },
  {
   "metadata": {
    "ExecuteTime": {
     "end_time": "2025-04-02T00:47:44.719363Z",
     "start_time": "2025-04-02T00:47:44.529032Z"
    }
   },
   "cell_type": "code",
   "source": [
    "similarities_sorted = sorted(similarities, key=lambda x: x[2], reverse=True)\n",
    "for i, j, score in similarities_sorted[:10]:\n",
    "    print(f\"\\n[{i}] {df_sample.loc[i, 'review/text']}\\n[{j}] {df_sample.loc[j, 'review/text']}\\nSimilarity: {score:.2f}\")\n",
    "    "
   ],
   "id": "18096f0c6851244f",
   "outputs": [
    {
     "name": "stdout",
     "output_type": "stream",
     "text": [
      "\n",
      "[288] A classic, terrific story, I would recommend it to anyone!\n",
      "[468] I recommend it to anyone!!!\n",
      "Similarity: 0.50\n",
      "\n",
      "[430] The book was in good condition and it proved to be a valid transaction. I would recommend the seller.\n",
      "[977] I received the book in good condition and in a timely manner\n",
      "Similarity: 0.38\n",
      "\n",
      "[430] The book was in good condition and it proved to be a valid transaction. I would recommend the seller.\n",
      "[839] I received this book in the exact condition in which it was stated to be - excellent. And I received it in a very timely matter. I was very pleased with this purchase.\n",
      "Similarity: 0.37\n",
      "\n",
      "[839] I received this book in the exact condition in which it was stated to be - excellent. And I received it in a very timely matter. I was very pleased with this purchase.\n",
      "[844] Great purchase Great purchase Great purchase Great purchase Great purchase and came when it was supposed to condition was also as stated I was very happy with this\n",
      "Similarity: 0.37\n",
      "\n",
      "[839] I received this book in the exact condition in which it was stated to be - excellent. And I received it in a very timely matter. I was very pleased with this purchase.\n",
      "[977] I received the book in good condition and in a timely manner\n",
      "Similarity: 0.36\n",
      "\n",
      "[150] This book is very interesting and you will not want to put it down once you start reading it. Also the figuring out who the killer is, iz fun!\n",
      "[709] You will not want to put this book down. Loved it. Filler words here until I get to the required twenty.\n",
      "Similarity: 0.32\n",
      "\n",
      "[23] I received the book in a reasonable time. The item is as it is described. I would recommend buying this book.\n",
      "[519] I would definately recommend this book. This is a very Heartwarming story in more ways than one.\n",
      "Similarity: 0.32\n",
      "\n",
      "[778] One of the best books i have ever read if not the best an amazing story i would reccomend this book to kids and adults of all ages\n",
      "[851] This is one of the best books I have ever read, and I will continue to be very grateful that I was able to get It as easily as I did.\n",
      "Similarity: 0.32\n",
      "\n",
      "[208] Absolutely the best book I've ever read of his. One of myfavorite books of all times.\n",
      "[778] One of the best books i have ever read if not the best an amazing story i would reccomend this book to kids and adults of all ages\n",
      "Similarity: 0.31\n",
      "\n",
      "[328] I am not a marketing person and I seldom read non-fiction, but I found this book to be 1) very informative 2) easy to follow the logic 3) diverse examples of the authors point and 4) fairly well written. I found the book so interesting, I read it in 3 days.\n",
      "[939] I found this book to be informative, easy to read and very witty. So many of the books on sex are written in a manner that makes the layman feel stupid. This book is written with a style that makes the subject understandable and non-threatening. I will definitely recommend it to my clients and friends.\n",
      "Similarity: 0.31\n"
     ]
    }
   ],
   "execution_count": 25
  },
  {
   "metadata": {
    "ExecuteTime": {
     "end_time": "2025-04-02T00:47:48.305157Z",
     "start_time": "2025-04-02T00:47:48.290746Z"
    }
   },
   "cell_type": "code",
   "source": [
    "top_pairs = similarities_sorted[:100]\n",
    "results = []\n",
    "\n",
    "for i, j, score in top_pairs:\n",
    "    results.append({\n",
    "        \"i\": i,\n",
    "        \"j\": j,\n",
    "        \"i_text\": df_sample.loc[i, \"review/text\"],\n",
    "        \"j_text\": df_sample.loc[j, \"review/text\"],\n",
    "        \"similarity\": score\n",
    "    })\n",
    "\n",
    "results_df = pd.DataFrame(results)\n",
    "results_df.to_csv(\"top_jaccard_pairs.csv\", index=False)"
   ],
   "id": "6c54dc62c3020de1",
   "outputs": [],
   "execution_count": 26
  },
  {
   "metadata": {},
   "cell_type": "code",
   "outputs": [],
   "execution_count": null,
   "source": "",
   "id": "1d407196e26a6233"
  }
 ],
 "metadata": {
  "kernelspec": {
   "display_name": "Python 3",
   "language": "python",
   "name": "python3"
  },
  "language_info": {
   "codemirror_mode": {
    "name": "ipython",
    "version": 2
   },
   "file_extension": ".py",
   "mimetype": "text/x-python",
   "name": "python",
   "nbconvert_exporter": "python",
   "pygments_lexer": "ipython2",
   "version": "2.7.6"
  }
 },
 "nbformat": 4,
 "nbformat_minor": 5
}
